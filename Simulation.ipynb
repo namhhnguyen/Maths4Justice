{
 "cells": [
  {
   "cell_type": "markdown",
   "metadata": {},
   "source": [
    "**Approach**: I'm trying to adapt the SimPy code for a Call Center to the Justice System"
   ]
  },
  {
   "cell_type": "code",
   "execution_count": 7,
   "metadata": {},
   "outputs": [],
   "source": [
    "import simpy\n",
    "import random \n",
    "import numpy as np"
   ]
  },
  {
   "cell_type": "code",
   "execution_count": 8,
   "metadata": {},
   "outputs": [],
   "source": [
    "NUM_JUDGES = 10\n",
    "\n",
    "AVG_MAGISTRATES_SUPPORT_TIME = 5\n",
    "AVG_MAGISTRATES_SENTENCING_PROBABILITY = 0.5\n",
    "AVG_MAGISTRATES_DISMISSED_PROBABILITY = 0.2\n",
    "\n",
    "AVG_CASE_MANAGEMENT_SUPPORT_TIME = 5\n",
    "AVG_CASE_MANAGEMENT_CRACKED_PROBABILITY = 0.35\n",
    "AVG_CASE_MANAGEMENT_DISMISSED_PROBABILITY = 0.15\n",
    "AVG_CASE_MANAGEMENT_SENTENCING_PROBABILITY = 0.5\n",
    "\n",
    "CUSTOMER_INTERVAL = 2\n",
    "SIM_TIME = 120"
   ]
  },
  {
   "cell_type": "code",
   "execution_count": 9,
   "metadata": {},
   "outputs": [],
   "source": [
    "# Numbers we to track through the simulation to see possible bottle necks \n",
    "customers_processed = 0\n",
    "magistrates_stack = 0\n",
    "case_management_stack = 0"
   ]
  },
  {
   "cell_type": "code",
   "execution_count": 10,
   "metadata": {},
   "outputs": [],
   "source": [
    "class justice_system:\n",
    "    def __init__(self, \n",
    "                 env, \n",
    "                 num_judges, \n",
    "                 avg_magistrates_support_time,\n",
    "                 avg_magistrates_sentencing_probability,\n",
    "                 avg_magistrates_dismissed_probability,\n",
    "                 avg_case_management_support_time,\n",
    "                 avg_case_manangement_cracked_probability,\n",
    "                 avg_case_management_dismissed_probability,\n",
    "                 avg_case_management_sentecing_probability,\n",
    "                 ):\n",
    "        self.env = env\n",
    "        self.judges = simpy.Resource(env, num_judges)\n",
    "        self.avg_magistrates_support_time = avg_magistrates_support_time\n",
    "        self.avg_magistrates_sentencing_probability = avg_magistrates_sentencing_probability\n",
    "        self.avg_magistrates_dismissed_probability = avg_magistrates_dismissed_probability\n",
    "        self.avg_case_management_support_time = avg_case_management_support_time\n",
    "        self.avg_case_manangement_cracked_probability = avg_case_manangement_cracked_probability\n",
    "        self.avg_case_management_dismissed_probability = avg_case_management_dismissed_probability\n",
    "        self.avg_case_management_sentecing_probability = avg_case_management_sentecing_probability\n",
    "\n",
    "    def case_management_support(self):\n",
    "        random_time = max(1, np.random.normal(self.avg_case_management_support_time, 4))\n",
    "        yield self.env.timeout(random_time)\n",
    "        \n",
    "\n",
    "    def magistrate_support(self):\n",
    "        random_time = max(1, np.random.normal(self.avg_magistrates_support_time, 4))\n",
    "        yield self.env.timeout(random_time)\n",
    "\n",
    "def customer(env, justice_system):\n",
    "    global customers_processed\n",
    "    with justice_system.judges.request() as request:\n",
    "        yield request\n",
    "        yield env.process(justice_system.support())\n",
    "        customers_handled += 1 "
   ]
  },
  {
   "cell_type": "code",
   "execution_count": 11,
   "metadata": {},
   "outputs": [],
   "source": [
    "def set_up(env, num_employees, support_time, customer_interval):\n",
    "    justice_system = justice_system(env, num_employees, support_time)\n",
    "\n",
    "    initial_customers = 6\n",
    "    for i in range(1, initial_customers):\n",
    "        env.process(customer(env, i, call_center))\n",
    "\n",
    "    customers_name = initial_customers\n",
    "    while True:\n",
    "        yield env.timeout(random.randint(customer_interval - 1, customer_interval +1))\n",
    "        customers_name += 1\n",
    "        env.process(customer(env, customers_name, call_center))"
   ]
  },
  {
   "cell_type": "code",
   "execution_count": 12,
   "metadata": {},
   "outputs": [
    {
     "ename": "NameError",
     "evalue": "name 'NUM_EMPLOYEES' is not defined",
     "output_type": "error",
     "traceback": [
      "\u001b[0;31m---------------------------------------------------------------------------\u001b[0m",
      "\u001b[0;31mNameError\u001b[0m                                 Traceback (most recent call last)",
      "\u001b[1;32m/Users/nam.nguyen/GitHub/Maths4Justice/Maths4Justice/Simulation.ipynb Cell 7\u001b[0m line \u001b[0;36m2\n\u001b[1;32m      <a href='vscode-notebook-cell:/Users/nam.nguyen/GitHub/Maths4Justice/Maths4Justice/Simulation.ipynb#W6sZmlsZQ%3D%3D?line=0'>1</a>\u001b[0m env \u001b[39m=\u001b[39m simpy\u001b[39m.\u001b[39mEnvironment()\n\u001b[0;32m----> <a href='vscode-notebook-cell:/Users/nam.nguyen/GitHub/Maths4Justice/Maths4Justice/Simulation.ipynb#W6sZmlsZQ%3D%3D?line=1'>2</a>\u001b[0m env\u001b[39m.\u001b[39mprocess(set_up(env, NUM_EMPLOYEES, AVG_SUPPORT_TIME, CUSTOMER_INTERVAL))\n\u001b[1;32m      <a href='vscode-notebook-cell:/Users/nam.nguyen/GitHub/Maths4Justice/Maths4Justice/Simulation.ipynb#W6sZmlsZQ%3D%3D?line=2'>3</a>\u001b[0m env\u001b[39m.\u001b[39mrun(until\u001b[39m=\u001b[39mSIM_TIME)\n\u001b[1;32m      <a href='vscode-notebook-cell:/Users/nam.nguyen/GitHub/Maths4Justice/Maths4Justice/Simulation.ipynb#W6sZmlsZQ%3D%3D?line=4'>5</a>\u001b[0m \u001b[39mprint\u001b[39m(\u001b[39mf\u001b[39m\u001b[39m\"\u001b[39m\u001b[39mCustomes handled: \u001b[39m\u001b[39m{\u001b[39;00mcustomers_handled\u001b[39m}\u001b[39;00m\u001b[39m\"\u001b[39m)\n",
      "\u001b[0;31mNameError\u001b[0m: name 'NUM_EMPLOYEES' is not defined"
     ]
    }
   ],
   "source": [
    "env = simpy.Environment()\n",
    "env.process(set_up(env, NUM_EMPLOYEES, AVG_SUPPORT_TIME, CUSTOMER_INTERVAL))\n",
    "env.run(until=SIM_TIME)\n",
    "\n",
    "print(f\"Customes handled: {customers_handled}\")"
   ]
  },
  {
   "cell_type": "markdown",
   "metadata": {},
   "source": []
  }
 ],
 "metadata": {
  "kernelspec": {
   "display_name": "ESRL",
   "language": "python",
   "name": "python3"
  },
  "language_info": {
   "codemirror_mode": {
    "name": "ipython",
    "version": 3
   },
   "file_extension": ".py",
   "mimetype": "text/x-python",
   "name": "python",
   "nbconvert_exporter": "python",
   "pygments_lexer": "ipython3",
   "version": "3.10.13"
  }
 },
 "nbformat": 4,
 "nbformat_minor": 2
}
