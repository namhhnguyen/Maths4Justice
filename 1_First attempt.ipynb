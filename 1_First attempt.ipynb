{
 "cells": [
  {
   "cell_type": "markdown",
   "metadata": {},
   "source": [
    "**Approach**: I'm trying to adapt the SimPy code for a Call Center to the Justice System"
   ]
  },
  {
   "cell_type": "code",
   "execution_count": 1,
   "metadata": {},
   "outputs": [],
   "source": [
    "import simpy\n",
    "import random \n",
    "import numpy as np"
   ]
  },
  {
   "cell_type": "code",
   "execution_count": 2,
   "metadata": {},
   "outputs": [],
   "source": [
    "class justice_system:\n",
    "    def __init__(self, \n",
    "                 env, \n",
    "                 num_judges, \n",
    "                 avg_magistrates_support_time,\n",
    "                 avg_magistrates_sentencing_probability,\n",
    "                 avg_magistrates_dismissed_probability,\n",
    "                 avg_case_management_support_time,\n",
    "                 avg_case_management_cracked_probability,\n",
    "                 avg_case_management_dismissed_probability,\n",
    "                 avg_case_management_sentencing_probability,\n",
    "                 ):\n",
    "        self.env = env\n",
    "        self.judges = simpy.Resource(env, num_judges)\n",
    "        self.avg_magistrates_support_time = avg_magistrates_support_time\n",
    "        self.avg_magistrates_sentencing_probability = avg_magistrates_sentencing_probability\n",
    "        self.avg_magistrates_dismissed_probability = avg_magistrates_dismissed_probability\n",
    "        self.avg_case_management_support_time = avg_case_management_support_time\n",
    "        self.avg_case_manangement_cracked_probability = avg_case_management_cracked_probability\n",
    "        self.avg_case_management_dismissed_probability = avg_case_management_dismissed_probability\n",
    "        self.avg_case_management_sentecing_probability = avg_case_management_sentencing_probability\n",
    "\n",
    "\n",
    "        # For simplification, only track customers as Done or Not Done:\n",
    "        self.magistrates_done_probability = self.avg_magistrates_sentencing_probability + self.avg_magistrates_dismissed_probability\n",
    "        self.case_management_done_probablity = self.avg_case_manangement_cracked_probability + self.avg_case_management_support_time + self.avg_case_management_sentecing_probability\n",
    "        \n",
    "    def support(self):\n",
    "        magistrates_stack += 1\n",
    "        random_time = max(1, np.random.normal(self.avg_magistrates_support_time, 4))\n",
    "        yield self.env.timeout(random_time) \n",
    "        if np.random.uniform(0,1) < self.magistrates_done_probability:\n",
    "            customers_processed +=1\n",
    "            magistrates_stack -=1\n",
    "        else:\n",
    "            with self.judges.request() as request:\n",
    "                yield request\n",
    "                yield self.process(justice_system.case_management_support())\n",
    "                magistrates_stack -=1\n",
    "        \n",
    "    def case_management_support(self):\n",
    "        case_management_stack += 1\n",
    "        random_time = max(1, np.random.normal(self.avg_case_management_support_time, 4))\n",
    "        yield self.env.timeout(random_time)\n",
    "        customers_processed +=1\n",
    "        case_management_stack -=1"
   ]
  },
  {
   "cell_type": "code",
   "execution_count": 3,
   "metadata": {},
   "outputs": [],
   "source": [
    "# Numbers we to track through the simulation to see possible bottle necks \n",
    "customers_processed = 0\n",
    "magistrates_stack = 0\n",
    "case_management_stack = 0"
   ]
  },
  {
   "cell_type": "code",
   "execution_count": 4,
   "metadata": {},
   "outputs": [],
   "source": [
    "NUM_JUDGES = 2\n",
    "\n",
    "AVG_MAGISTRATES_SUPPORT_TIME = 5\n",
    "AVG_MAGISTRATES_SENTENCING_PROBABILITY = 0.5\n",
    "AVG_MAGISTRATES_DISMISSED_PROBABILITY = 0.2\n",
    "\n",
    "AVG_CASE_MANAGEMENT_SUPPORT_TIME = 5\n",
    "AVG_CASE_MANAGEMENT_CRACKED_PROBABILITY = 0.35\n",
    "AVG_CASE_MANAGEMENT_DISMISSED_PROBABILITY = 0.15\n",
    "AVG_CASE_MANAGEMENT_SENTENCING_PROBABILITY = 0.5\n",
    "\n",
    "CUSTOMER_INTERVAL = 2\n",
    "SIM_TIME = 120"
   ]
  },
  {
   "cell_type": "code",
   "execution_count": 5,
   "metadata": {},
   "outputs": [
    {
     "data": {
      "text/plain": [
       "<Process(support) object at 0x20dff48fd00>"
      ]
     },
     "execution_count": 5,
     "metadata": {},
     "output_type": "execute_result"
    }
   ],
   "source": [
    "env = simpy.Environment()\n",
    "justice_system = justice_system(env,\n",
    "                                NUM_JUDGES, \n",
    "                                AVG_MAGISTRATES_SUPPORT_TIME,\n",
    "                                AVG_MAGISTRATES_SENTENCING_PROBABILITY,\n",
    "                                AVG_MAGISTRATES_DISMISSED_PROBABILITY,\n",
    "                                AVG_CASE_MANAGEMENT_SUPPORT_TIME,\n",
    "                                AVG_CASE_MANAGEMENT_CRACKED_PROBABILITY,\n",
    "                                AVG_CASE_MANAGEMENT_DISMISSED_PROBABILITY,\n",
    "                                AVG_CASE_MANAGEMENT_SENTENCING_PROBABILITY,\n",
    "                                )\n",
    "env.process(justice_system.support())"
   ]
  },
  {
   "cell_type": "code",
   "execution_count": 6,
   "metadata": {},
   "outputs": [
    {
     "data": {
      "text/plain": [
       "0"
      ]
     },
     "execution_count": 6,
     "metadata": {},
     "output_type": "execute_result"
    }
   ],
   "source": [
    "customers_processed"
   ]
  },
  {
   "cell_type": "code",
   "execution_count": null,
   "metadata": {},
   "outputs": [],
   "source": []
  }
 ],
 "metadata": {
  "kernelspec": {
   "display_name": "ESRL",
   "language": "python",
   "name": "python3"
  },
  "language_info": {
   "codemirror_mode": {
    "name": "ipython",
    "version": 3
   },
   "file_extension": ".py",
   "mimetype": "text/x-python",
   "name": "python",
   "nbconvert_exporter": "python",
   "pygments_lexer": "ipython3",
   "version": "3.10.13"
  }
 },
 "nbformat": 4,
 "nbformat_minor": 2
}
