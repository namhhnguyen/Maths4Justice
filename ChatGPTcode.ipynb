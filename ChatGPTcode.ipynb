{
 "cells": [
  {
   "cell_type": "code",
   "execution_count": 1,
   "metadata": {},
   "outputs": [],
   "source": [
    "import simpy\n",
    "import numpy as np\n",
    "\n",
    "class JusticeSystem:\n",
    "    def __init__(self, \n",
    "                 env, \n",
    "                 num_judges, \n",
    "                 avg_magistrates_support_time,\n",
    "                 avg_magistrates_sentencing_probability,\n",
    "                 avg_magistrates_dismissed_probability,\n",
    "                 avg_case_management_support_time,\n",
    "                 avg_case_management_cracked_probability,\n",
    "                 avg_case_management_dismissed_probability,\n",
    "                 avg_case_management_sentencing_probability):\n",
    "        self.env = env\n",
    "        self.judges = simpy.Resource(env, num_judges)\n",
    "        self.avg_magistrates_support_time = avg_magistrates_support_time\n",
    "        self.avg_magistrates_sentencing_probability = avg_magistrates_sentencing_probability\n",
    "        self.avg_magistrates_dismissed_probability = avg_magistrates_dismissed_probability\n",
    "        self.avg_case_management_support_time = avg_case_management_support_time\n",
    "        self.avg_case_management_cracked_probability = avg_case_management_cracked_probability\n",
    "        self.avg_case_management_dismissed_probability = avg_case_management_dismissed_probability\n",
    "        self.avg_case_management_sentencing_probability = avg_case_management_sentencing_probability\n",
    "\n",
    "        # Initialize counters\n",
    "        self.magistrates_stack = 0\n",
    "        self.case_management_stack = 0\n",
    "        self.customers_processed = 0\n",
    "\n",
    "        # For simplification, only track customers as Done or Not Done:\n",
    "        self.magistrates_done_probability = self.avg_magistrates_sentencing_probability + self.avg_magistrates_dismissed_probability\n",
    "        self.case_management_done_probability = self.avg_case_management_cracked_probability + self.avg_case_management_sentencing_probability\n",
    "\n",
    "    def support(self):\n",
    "        self.magistrates_stack += 1\n",
    "        random_time = max(1, np.random.normal(self.avg_magistrates_support_time, 4))\n",
    "        yield self.env.timeout(random_time) \n",
    "        if np.random.uniform(0, 1) < self.magistrates_done_probability:\n",
    "            self.customers_processed += 1\n",
    "            self.magistrates_stack -= 1\n",
    "        else:\n",
    "            \n",
    "                yield self.case_management_support()\n",
    "                self.magistrates_stack -= 1\n",
    "\n",
    "    def case_management_support(self):\n",
    "        with self.judges.request() as request:\n",
    "                yield request\n",
    "        self.case_management_stack += 1\n",
    "        random_time = max(1, np.random.normal(self.avg_case_management_support_time, 4))\n",
    "        yield self.env.timeout(random_time)\n",
    "        self.customers_processed += 1\n",
    "        self.case_management_stack -= 1\n",
    "\n",
    "    def simulate(self):\n",
    "        while True:\n",
    "            self.support()"
   ]
  },
  {
   "cell_type": "code",
   "execution_count": 2,
   "metadata": {},
   "outputs": [
    {
     "ename": "KeyboardInterrupt",
     "evalue": "",
     "output_type": "error",
     "traceback": [
      "\u001b[1;31m---------------------------------------------------------------------------\u001b[0m",
      "\u001b[1;31mKeyboardInterrupt\u001b[0m                         Traceback (most recent call last)",
      "\u001b[1;32md:\\GitHub\\Maths4Justice\\ChatGPTcode.ipynb Cell 2\u001b[0m line \u001b[0;36m1\n\u001b[0;32m      <a href='vscode-notebook-cell:/d%3A/GitHub/Maths4Justice/ChatGPTcode.ipynb#X11sZmlsZQ%3D%3D?line=1'>2</a>\u001b[0m env \u001b[39m=\u001b[39m simpy\u001b[39m.\u001b[39mEnvironment()\n\u001b[0;32m      <a href='vscode-notebook-cell:/d%3A/GitHub/Maths4Justice/ChatGPTcode.ipynb#X11sZmlsZQ%3D%3D?line=2'>3</a>\u001b[0m justice_system \u001b[39m=\u001b[39m JusticeSystem(env, num_judges\u001b[39m=\u001b[39m\u001b[39m1\u001b[39m, avg_magistrates_support_time\u001b[39m=\u001b[39m\u001b[39m5\u001b[39m,\n\u001b[0;32m      <a href='vscode-notebook-cell:/d%3A/GitHub/Maths4Justice/ChatGPTcode.ipynb#X11sZmlsZQ%3D%3D?line=3'>4</a>\u001b[0m                                avg_magistrates_sentencing_probability\u001b[39m=\u001b[39m\u001b[39m0.5\u001b[39m,\n\u001b[0;32m      <a href='vscode-notebook-cell:/d%3A/GitHub/Maths4Justice/ChatGPTcode.ipynb#X11sZmlsZQ%3D%3D?line=4'>5</a>\u001b[0m                                avg_magistrates_dismissed_probability\u001b[39m=\u001b[39m\u001b[39m0.2\u001b[39m,\n\u001b[1;32m   (...)\u001b[0m\n\u001b[0;32m      <a href='vscode-notebook-cell:/d%3A/GitHub/Maths4Justice/ChatGPTcode.ipynb#X11sZmlsZQ%3D%3D?line=7'>8</a>\u001b[0m                                avg_case_management_dismissed_probability\u001b[39m=\u001b[39m\u001b[39m0.15\u001b[39m,\n\u001b[0;32m      <a href='vscode-notebook-cell:/d%3A/GitHub/Maths4Justice/ChatGPTcode.ipynb#X11sZmlsZQ%3D%3D?line=8'>9</a>\u001b[0m                                avg_case_management_sentencing_probability\u001b[39m=\u001b[39m\u001b[39m0.5\u001b[39m)\n\u001b[1;32m---> <a href='vscode-notebook-cell:/d%3A/GitHub/Maths4Justice/ChatGPTcode.ipynb#X11sZmlsZQ%3D%3D?line=10'>11</a>\u001b[0m env\u001b[39m.\u001b[39mprocess(justice_system\u001b[39m.\u001b[39;49msimulate())\n\u001b[0;32m     <a href='vscode-notebook-cell:/d%3A/GitHub/Maths4Justice/ChatGPTcode.ipynb#X11sZmlsZQ%3D%3D?line=11'>12</a>\u001b[0m env\u001b[39m.\u001b[39mrun(until\u001b[39m=\u001b[39m\u001b[39m10\u001b[39m)  \u001b[39m# Run the simulation for 100 time units\u001b[39;00m\n",
      "\u001b[1;32md:\\GitHub\\Maths4Justice\\ChatGPTcode.ipynb Cell 2\u001b[0m line \u001b[0;36m5\n\u001b[0;32m     <a href='vscode-notebook-cell:/d%3A/GitHub/Maths4Justice/ChatGPTcode.ipynb#X11sZmlsZQ%3D%3D?line=53'>54</a>\u001b[0m \u001b[39mdef\u001b[39;00m \u001b[39msimulate\u001b[39m(\u001b[39mself\u001b[39m):\n\u001b[1;32m---> <a href='vscode-notebook-cell:/d%3A/GitHub/Maths4Justice/ChatGPTcode.ipynb#X11sZmlsZQ%3D%3D?line=54'>55</a>\u001b[0m     \u001b[39mwhile\u001b[39;00m \u001b[39mTrue\u001b[39;00m:\n\u001b[0;32m     <a href='vscode-notebook-cell:/d%3A/GitHub/Maths4Justice/ChatGPTcode.ipynb#X11sZmlsZQ%3D%3D?line=55'>56</a>\u001b[0m         \u001b[39mself\u001b[39m\u001b[39m.\u001b[39msupport()\n",
      "\u001b[1;31mKeyboardInterrupt\u001b[0m: "
     ]
    }
   ],
   "source": [
    "# Example usage:\n",
    "env = simpy.Environment()\n",
    "justice_system = JusticeSystem(env, num_judges=1, avg_magistrates_support_time=5,\n",
    "                               avg_magistrates_sentencing_probability=0.5,\n",
    "                               avg_magistrates_dismissed_probability=0.2,\n",
    "                               avg_case_management_support_time=5,\n",
    "                               avg_case_management_cracked_probability=0.35,\n",
    "                               avg_case_management_dismissed_probability=0.15,\n",
    "                               avg_case_management_sentencing_probability=0.5)\n",
    "\n",
    "env.process(justice_system.simulate())\n",
    "env.run(until=10)  # Run the simulation for 10 time units"
   ]
  },
  {
   "cell_type": "code",
   "execution_count": null,
   "metadata": {},
   "outputs": [],
   "source": [
    "justice_system.customers_processed"
   ]
  },
  {
   "cell_type": "code",
   "execution_count": null,
   "metadata": {},
   "outputs": [],
   "source": []
  }
 ],
 "metadata": {
  "kernelspec": {
   "display_name": "ESRL",
   "language": "python",
   "name": "python3"
  },
  "language_info": {
   "codemirror_mode": {
    "name": "ipython",
    "version": 3
   },
   "file_extension": ".py",
   "mimetype": "text/x-python",
   "name": "python",
   "nbconvert_exporter": "python",
   "pygments_lexer": "ipython3",
   "version": "3.10.13"
  }
 },
 "nbformat": 4,
 "nbformat_minor": 2
}
